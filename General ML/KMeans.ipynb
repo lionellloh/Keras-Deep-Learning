{
 "cells": [
  {
   "cell_type": "code",
   "execution_count": 5,
   "metadata": {},
   "outputs": [
    {
     "data": {
      "image/png": "[encoded data removed]",
      "text/plain": [
       "<Figure size 432x288 with 1 Axes>"
      ]
     },
     "metadata": {},
     "output_type": "display_data"
    }
   ],
   "source": [
    "%matplotlib inline\n",
    "import numpy as np\n",
    "import matplotlib.pyplot as plt \n",
    "from matplotlib import style\n",
    "style.use(\"ggplot\")\n",
    "\n",
    "from sklearn.cluster import KMeans\n",
    "\n",
    "x = [1,5,1.5,8,1,9]\n",
    "y = [2, 8, 1.8, 8, 0.6, 11]\n",
    "\n",
    "plt.scatter(x, y)\n",
    "plt.show()"
   ]
  },
  {
   "cell_type": "code",
   "execution_count": 10,
   "metadata": {},
   "outputs": [
    {
     "name": "stdout",
     "output_type": "stream",
     "text": [
      "[[ 1.   2. ]\n",
      " [ 5.   8. ]\n",
      " [ 1.5  1.8]\n",
      " [ 8.   8. ]\n",
      " [ 1.   0.6]\n",
      " [ 9.  11. ]]\n"
     ]
    }
   ],
   "source": [
    "X = np.array([x, y]).T\n",
    "print(X)"
   ]
  },
  {
   "cell_type": "code",
   "execution_count": 30,
   "metadata": {},
   "outputs": [
    {
     "data": {
      "text/plain": [
       "KMeans(algorithm='auto', copy_x=True, init='k-means++', max_iter=300,\n",
       "    n_clusters=2, n_init=10, n_jobs=1, precompute_distances='auto',\n",
       "    random_state=None, tol=0.0001, verbose=0)"
      ]
     },
     "execution_count": 30,
     "metadata": {},
     "output_type": "execute_result"
    }
   ],
   "source": [
    "kmeans = KMeans(n_clusters = 2)\n",
    "kmeans.fit(X)"
   ]
  },
  {
   "cell_type": "markdown",
   "metadata": {},
   "source": [
    "Assign the centroids variable \n",
    "Use unsupervised learning to label the clusters of data"
   ]
  },
  {
   "cell_type": "code",
   "execution_count": 31,
   "metadata": {},
   "outputs": [
    {
     "name": "stdout",
     "output_type": "stream",
     "text": [
      "[[7.33333333 9.        ]\n",
      " [1.16666667 1.46666667]]\n",
      "[1 0 1 0 1 0]\n"
     ]
    }
   ],
   "source": [
    "centroids = kmeans.cluster_centers_\n",
    "labels = kmeans.labels_\n",
    "print(centroids)\n",
    "print(labels)"
   ]
  },
  {
   "cell_type": "code",
   "execution_count": 32,
   "metadata": {},
   "outputs": [
    {
     "name": "stdout",
     "output_type": "stream",
     "text": [
      "coordinate: [1. 2.]\n",
      "coordinate: [5. 8.]\n",
      "coordinate: [1.5 1.8]\n",
      "coordinate: [8. 8.]\n",
      "coordinate: [1.  0.6]\n",
      "coordinate: [ 9. 11.]\n"
     ]
    },
    {
     "data": {
      "text/plain": [
       "<matplotlib.collections.PathCollection at 0x116100358>"
      ]
     },
     "execution_count": 32,
     "metadata": {},
     "output_type": "execute_result"
    },
    {
     "data": {
      "image/png": "[encoded data removed]",
      "text/plain": [
       "<Figure size 432x288 with 1 Axes>"
      ]
     },
     "metadata": {},
     "output_type": "display_data"
    }
   ],
   "source": [
    "colours = [\"g.\", \"r.\", \"b.\"]\n",
    "for i in range(len(X)): \n",
    "    print(\"coordinate: {}\".format(X[i], \"labels[i]: {} \".format(labels[i])))\n",
    "    plt.plot(X[i][0], X[i][1], colours[labels[i]])\n",
    "    \n",
    "plt.scatter(centroids[:, 0], centroids[:, 1], marker = \"x\", s = 150, linewidths = 5, zorder = 10)"
   ]
  },
  {
   "cell_type": "code",
   "execution_count": null,
   "metadata": {},
   "outputs": [],
   "source": []
  },
  {
   "cell_type": "code",
   "execution_count": null,
   "metadata": {},
   "outputs": [],
   "source": []
  }
 ],
 "metadata": {
  "kernelspec": {
   "display_name": "Python 3",
   "language": "python",
   "name": "python3"
  },
  "language_info": {
   "codemirror_mode": {
    "name": "ipython",
    "version": 3
   },
   "file_extension": ".py",
   "mimetype": "text/x-python",
   "name": "python",
   "nbconvert_exporter": "python",
   "pygments_lexer": "ipython3",
   "version": "3.6.5"
  }
 },
 "nbformat": 4,
 "nbformat_minor": 1
}
